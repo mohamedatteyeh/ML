{
 "cells": [
  {
   "cell_type": "code",
   "execution_count": 1,
   "metadata": {},
   "outputs": [],
   "source": [
    "import whisper \n",
    "from pytube import YouTube "
   ]
  },
  {
   "cell_type": "code",
   "execution_count": null,
   "metadata": {},
   "outputs": [],
   "source": [
    "model = whisper.load_model('large')"
   ]
  },
  {
   "cell_type": "code",
   "execution_count": 5,
   "metadata": {},
   "outputs": [],
   "source": [
    "tube_url = \"https://www.youtube.com/watch?v=XYCKNN_7Hec\"\n",
    "tube1_url= \"https://www.youtube.com/watch?v=pJ0auP7dbcY\"\n",
    "crunchy = \"https://www.youtube.com/watch?v=wHBbELHcVRI\"\n",
    "short = \"https://www.youtube.com/shorts/8hHyPTOgk8w\"\n",
    "vid = YouTube(short)"
   ]
  },
  {
   "cell_type": "code",
   "execution_count": 6,
   "metadata": {},
   "outputs": [
    {
     "name": "stdout",
     "output_type": "stream",
     "text": [
      "أبوك وأمك مدرسين رياضيات 😳\n"
     ]
    }
   ],
   "source": [
    "print(vid.title)"
   ]
  },
  {
   "cell_type": "code",
   "execution_count": 7,
   "metadata": {},
   "outputs": [],
   "source": [
    "#audstream = vid.streams.filter()\n",
    "video = vid.streams.filter(progressive=True, file_extension='mp4').order_by('resolution').desc().first().download(filename=\"shorts.mp4\")"
   ]
  },
  {
   "cell_type": "code",
   "execution_count": null,
   "metadata": {},
   "outputs": [],
   "source": [
    "import ffmpeg\n",
    "audio_input = ffmpeg.input('test2.mp4')\n",
    "audio_cut = audio_input.audio.filter('atrim', duration = 120)\n",
    "audio_output = ffmpeg.output(audio_cut, 'test2_filtered2.mp4')\n",
    "ffmpeg.run(audio_output)\n"
   ]
  },
  {
   "cell_type": "code",
   "execution_count": null,
   "metadata": {},
   "outputs": [],
   "source": [
    "output = model.transcribe(\"test2_filtered2.mp4\", fp16 = False)"
   ]
  },
  {
   "cell_type": "code",
   "execution_count": null,
   "metadata": {},
   "outputs": [],
   "source": [
    "output2 = model.transcribe(\"test1.mp4\", fp16 = False)"
   ]
  },
  {
   "cell_type": "code",
   "execution_count": null,
   "metadata": {},
   "outputs": [],
   "source": [
    "print(output2)"
   ]
  },
  {
   "cell_type": "code",
   "execution_count": null,
   "metadata": {},
   "outputs": [],
   "source": [
    "print(output)"
   ]
  }
 ],
 "metadata": {
  "kernelspec": {
   "display_name": "ml",
   "language": "python",
   "name": "python3"
  },
  "language_info": {
   "codemirror_mode": {
    "name": "ipython",
    "version": 3
   },
   "file_extension": ".py",
   "mimetype": "text/x-python",
   "name": "python",
   "nbconvert_exporter": "python",
   "pygments_lexer": "ipython3",
   "version": "3.8.16"
  },
  "orig_nbformat": 4,
  "vscode": {
   "interpreter": {
    "hash": "70c27028200b630fba820c4b92e789c342190faabea5b4273641962ed5c6a988"
   }
  }
 },
 "nbformat": 4,
 "nbformat_minor": 2
}
